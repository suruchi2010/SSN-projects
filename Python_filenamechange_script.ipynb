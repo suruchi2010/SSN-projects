{
  "nbformat": 4,
  "nbformat_minor": 0,
  "metadata": {
    "colab": {
      "provenance": [],
      "authorship_tag": "ABX9TyODNL9JFYxR04XxDFKjLkeb",
      "include_colab_link": true
    },
    "kernelspec": {
      "name": "python3",
      "display_name": "Python 3"
    },
    "language_info": {
      "name": "python"
    }
  },
  "cells": [
    {
      "cell_type": "markdown",
      "metadata": {
        "id": "view-in-github",
        "colab_type": "text"
      },
      "source": [
        "<a href=\"https://colab.research.google.com/github/suruchi2010/SSN-projects/blob/main/Python_filenamechange_script.ipynb\" target=\"_parent\"><img src=\"https://colab.research.google.com/assets/colab-badge.svg\" alt=\"Open In Colab\"/></a>"
      ]
    },
    {
      "cell_type": "code",
      "execution_count": null,
      "metadata": {
        "id": "5rc-hkxKovhh"
      },
      "outputs": [],
      "source": [
        "import pandas as pd\n",
        "import numpy as np\n",
        "import matplotlib.pylab as plt\n",
        "import seaborn as sns\n",
        "import scipy\n",
        "\n",
        "from glob import glob"
      ]
    },
    {
      "cell_type": "code",
      "source": [
        "from google.colab import drive\n",
        "drive.mount('/content/gdrive')"
      ],
      "metadata": {
        "colab": {
          "base_uri": "https://localhost:8080/"
        },
        "id": "91fJlDcDo5bL",
        "outputId": "98f9dd41-cddc-4487-b93d-952083c4d05d"
      },
      "execution_count": null,
      "outputs": [
        {
          "output_type": "stream",
          "name": "stdout",
          "text": [
            "Mounted at /content/gdrive\n"
          ]
        }
      ]
    },
    {
      "cell_type": "code",
      "source": [
        "path = \"/content/gdrive/My Drive/Nikhil_syllablewaves\""
      ],
      "metadata": {
        "id": "Oh34W5jGo6M7"
      },
      "execution_count": null,
      "outputs": []
    },
    {
      "cell_type": "code",
      "source": [
        "audio_files= glob(path + '/*')"
      ],
      "metadata": {
        "id": "AHm8Gyz_o6Ye"
      },
      "execution_count": null,
      "outputs": []
    },
    {
      "cell_type": "code",
      "source": [
        "audio_files"
      ],
      "metadata": {
        "colab": {
          "base_uri": "https://localhost:8080/"
        },
        "id": "Tf667Tbto6is",
        "outputId": "fda827cf-9c34-4536-824f-46321443cb44"
      },
      "execution_count": null,
      "outputs": [
        {
          "output_type": "execute_result",
          "data": {
            "text/plain": [
              "['/content/gdrive/My Drive/Nikhil_syllablewaves/S38',\n",
              " '/content/gdrive/My Drive/Nikhil_syllablewaves/S41']"
            ]
          },
          "metadata": {},
          "execution_count": 6
        }
      ]
    },
    {
      "cell_type": "code",
      "source": [
        "audio_files[1]"
      ],
      "metadata": {
        "colab": {
          "base_uri": "https://localhost:8080/",
          "height": 35
        },
        "id": "Ck98iOOLo6tf",
        "outputId": "24dbcd57-0b28-4994-b13b-ee2903030b49"
      },
      "execution_count": null,
      "outputs": [
        {
          "output_type": "execute_result",
          "data": {
            "text/plain": [
              "'/content/gdrive/My Drive/Nikhil_syllablewaves/S41'"
            ],
            "application/vnd.google.colaboratory.intrinsic+json": {
              "type": "string"
            }
          },
          "metadata": {},
          "execution_count": 7
        }
      ]
    },
    {
      "cell_type": "code",
      "source": [
        "first=glob(audio_files[1] + '/*')\n",
        "#type(first)\n",
        "len(first)"
      ],
      "metadata": {
        "colab": {
          "base_uri": "https://localhost:8080/"
        },
        "id": "34e_2F_Do638",
        "outputId": "b8a3da7e-2bd5-4df0-e501-b2d9b1a9e520"
      },
      "execution_count": null,
      "outputs": [
        {
          "output_type": "execute_result",
          "data": {
            "text/plain": [
              "228"
            ]
          },
          "metadata": {},
          "execution_count": 8
        }
      ]
    },
    {
      "cell_type": "code",
      "source": [
        "import os, fnmatch\n",
        "\n",
        "files_to_rename = fnmatch.filter(os.listdir(audio_files[1]), '*.wav')\n",
        "files_to_rename"
      ],
      "metadata": {
        "colab": {
          "base_uri": "https://localhost:8080/"
        },
        "id": "YL8DtNlfp1z_",
        "outputId": "9805699b-9ad9-4be4-b794-8f4ffbd255cd"
      },
      "execution_count": null,
      "outputs": [
        {
          "output_type": "execute_result",
          "data": {
            "text/plain": [
              "['sub33_ba2.wav',\n",
              " 'sub33_muu6.wav',\n",
              " 'sub33_ba1.wav',\n",
              " 'sub33_ba6.wav',\n",
              " 'sub33_ba3.wav',\n",
              " 'sub33_baa2.wav',\n",
              " 'sub33_ba5.wav',\n",
              " 'sub33_baa1.wav',\n",
              " 'sub33_ba4.wav',\n",
              " 'sub33_baa3.wav',\n",
              " 'sub33_bau1.wav',\n",
              " 'sub33_baa5.wav',\n",
              " 'sub33_baa4.wav',\n",
              " 'sub33_bai3.wav',\n",
              " 'sub33_baa6.wav',\n",
              " 'sub33_bai1.wav',\n",
              " 'sub33_bai4.wav',\n",
              " 'sub33_bau2.wav',\n",
              " 'sub33_bai5.wav',\n",
              " 'sub33_bai2.wav',\n",
              " 'sub33_bau4.wav',\n",
              " 'sub33_bau5.wav',\n",
              " 'sub33_bau6.wav',\n",
              " 'sub33_bau3.wav',\n",
              " 'sub33_bo1.wav',\n",
              " 'sub33_bo2.wav',\n",
              " 'sub33_bo4.wav',\n",
              " 'sub33_bo5.wav',\n",
              " 'sub33_bo3.wav',\n",
              " 'sub33_bu4.wav',\n",
              " 'sub33_bu2.wav',\n",
              " 'sub33_bu6.wav',\n",
              " 'sub33_bu5.wav',\n",
              " 'sub33_buu4.wav',\n",
              " 'sub33_buu2.wav',\n",
              " 'sub33_buu3.wav',\n",
              " 'sub33_bu3.wav',\n",
              " 'sub33_buu1.wav',\n",
              " 'sub33_bu1.wav',\n",
              " 'sub33_daa3.wav',\n",
              " 'sub33_da1.wav',\n",
              " 'sub33_da3.wav',\n",
              " 'sub33_buu5.wav',\n",
              " 'sub33_da5.wav',\n",
              " 'sub33_da6.wav',\n",
              " 'sub33_da4.wav',\n",
              " 'sub33_da2.wav',\n",
              " 'sub33_daa1.wav',\n",
              " 'sub33_daa2.wav',\n",
              " 'sub33_daa6.wav',\n",
              " 'sub33_dau1.wav',\n",
              " 'sub33_dai3.wav',\n",
              " 'sub33_dai4.wav',\n",
              " 'sub33_dai2.wav',\n",
              " 'sub33_dai5.wav',\n",
              " 'sub33_dai6.wav',\n",
              " 'sub33_daa4.wav',\n",
              " 'sub33_dai1.wav',\n",
              " 'sub33_daa5.wav',\n",
              " 'sub33_dau4.wav',\n",
              " 'sub33_dau5.wav',\n",
              " 'sub33_dau6.wav',\n",
              " 'sub33_dau2.wav',\n",
              " 'sub33_dau3.wav',\n",
              " 'sub33_do2.wav',\n",
              " 'sub33_dii3.wav',\n",
              " 'sub33_dii5.wav',\n",
              " 'sub33_dii4.wav',\n",
              " 'sub33_do1.wav',\n",
              " 'sub33_do3.wav',\n",
              " 'sub33_dii6.wav',\n",
              " 'sub33_do6.wav',\n",
              " 'sub33_doo1.wav',\n",
              " 'sub33_du2.wav',\n",
              " 'sub33_doo3.wav',\n",
              " 'sub33_doo2.wav',\n",
              " 'sub33_do4.wav',\n",
              " 'sub33_du1.wav',\n",
              " 'sub33_doo4.wav',\n",
              " 'sub33_doo5.wav',\n",
              " 'sub33_do5.wav',\n",
              " 'sub33_du5.wav',\n",
              " 'sub33_duu2.wav',\n",
              " 'sub33_duu3.wav',\n",
              " 'sub33_duu5.wav',\n",
              " 'sub33_duu1.wav',\n",
              " 'sub33_duu6.wav',\n",
              " 'sub33_duu4.wav',\n",
              " 'sub33_du4.wav',\n",
              " 'sub33_ga1.wav',\n",
              " 'sub33_du3.wav',\n",
              " 'sub33_ga2.wav',\n",
              " 'sub33_ga5.wav',\n",
              " 'sub33_gaa5.wav',\n",
              " 'sub33_ga4.wav',\n",
              " 'sub33_ga6.wav',\n",
              " 'sub33_gaa1.wav',\n",
              " 'sub33_gaa4.wav',\n",
              " 'sub33_ga3.wav',\n",
              " 'sub33_gaa2.wav',\n",
              " 'sub33_gaa3.wav',\n",
              " 'sub33_gai5.wav',\n",
              " 'sub33_gai3.wav',\n",
              " 'sub33_gai6.wav',\n",
              " 'sub33_gau2.wav',\n",
              " 'sub33_gai4.wav',\n",
              " 'sub33_gai1.wav',\n",
              " 'sub33_gaa6.wav',\n",
              " 'sub33_gau3.wav',\n",
              " 'sub33_gau1.wav',\n",
              " 'sub33_gai2.wav',\n",
              " 'sub33_gau5.wav',\n",
              " 'sub33_gi6.wav',\n",
              " 'sub33_gi4.wav',\n",
              " 'sub33_gii1.wav',\n",
              " 'sub33_gi1.wav',\n",
              " 'sub33_gi5.wav',\n",
              " 'sub33_gau6.wav',\n",
              " 'sub33_gi2.wav',\n",
              " 'sub33_gau4.wav',\n",
              " 'sub33_gi3.wav',\n",
              " 'sub33_gii3.wav',\n",
              " 'sub33_go1.wav',\n",
              " 'sub33_gii6.wav',\n",
              " 'sub33_go5.wav',\n",
              " 'sub33_gii4.wav',\n",
              " 'sub33_gii2.wav',\n",
              " 'sub33_go2.wav',\n",
              " 'sub33_go4.wav',\n",
              " 'sub33_go3.wav',\n",
              " 'sub33_gii5.wav',\n",
              " 'sub33_gu1.wav',\n",
              " 'sub33_goo2.wav',\n",
              " 'sub33_gu2.wav',\n",
              " 'sub33_go6.wav',\n",
              " 'sub33_goo4.wav',\n",
              " 'sub33_gu3.wav',\n",
              " 'sub33_goo1.wav',\n",
              " 'sub33_goo3.wav',\n",
              " 'sub33_goo5.wav',\n",
              " 'sub33_goo6.wav',\n",
              " 'sub33_guu6.wav',\n",
              " 'sub33_ma1.wav',\n",
              " 'sub33_guu3.wav',\n",
              " 'sub33_guu5.wav',\n",
              " 'sub33_guu2.wav',\n",
              " 'sub33_guu1.wav',\n",
              " 'sub33_gu5.wav',\n",
              " 'sub33_gu4.wav',\n",
              " 'sub33_guu4.wav',\n",
              " 'sub33_gu6.wav',\n",
              " 'sub33_ma4.wav',\n",
              " 'sub33_ma5.wav',\n",
              " 'sub33_maa3.wav',\n",
              " 'sub33_ma2.wav',\n",
              " 'sub33_maa4.wav',\n",
              " 'sub33_maa2.wav',\n",
              " 'sub33_ma3.wav',\n",
              " 'sub33_maa5.wav',\n",
              " 'sub33_maa1.wav',\n",
              " 'sub33_ma6.wav',\n",
              " 'sub33_mau3.wav',\n",
              " 'sub33_mai1.wav',\n",
              " 'sub33_mai6.wav',\n",
              " 'sub33_mai5.wav',\n",
              " 'sub33_maa6.wav',\n",
              " 'sub33_mau1.wav',\n",
              " 'sub33_mai4.wav',\n",
              " 'sub33_mai3.wav',\n",
              " 'sub33_mai2.wav',\n",
              " 'sub33_mau2.wav',\n",
              " 'sub33_mau5.wav',\n",
              " 'sub33_mee1.wav',\n",
              " 'sub33_me4.wav',\n",
              " 'sub33_mau4.wav',\n",
              " 'sub33_me3.wav',\n",
              " 'sub33_me5.wav',\n",
              " 'sub33_me6.wav',\n",
              " 'sub33_me2.wav',\n",
              " 'sub33_mau6.wav',\n",
              " 'sub33_me1.wav',\n",
              " 'sub33_mee3.wav',\n",
              " 'sub33_mo1.wav',\n",
              " 'sub33_mee5.wav',\n",
              " 'sub33_mee4.wav',\n",
              " 'sub33_mo5.wav',\n",
              " 'sub33_mee2.wav',\n",
              " 'sub33_mee6.wav',\n",
              " 'sub33_mo2.wav',\n",
              " 'sub33_mo4.wav',\n",
              " 'sub33_mo3.wav',\n",
              " 'sub33_moo3.wav',\n",
              " 'sub33_moo5.wav',\n",
              " 'sub33_moo1.wav',\n",
              " 'sub33_mu1.wav',\n",
              " 'sub33_mo6.wav',\n",
              " 'sub33_moo6.wav',\n",
              " 'sub33_mu3.wav',\n",
              " 'sub33_mu2.wav',\n",
              " 'sub33_moo4.wav',\n",
              " 'sub33_moo2.wav',\n",
              " 'sub33_mu6.wav',\n",
              " 'sub33_muu2.wav',\n",
              " 'sub33_muu5.wav',\n",
              " 'sub33_mu5.wav',\n",
              " 'sub33_muu1.wav',\n",
              " 'sub33_muu4.wav',\n",
              " 'sub33_muu3.wav',\n",
              " 'sub33_mu4.wav',\n",
              " 'sub33_bi1.wav',\n",
              " 'sub33_bi2.wav',\n",
              " 'sub33_bi3.wav',\n",
              " 'sub33_bi4.wav',\n",
              " 'sub33_bi5.wav',\n",
              " 'sub33_bi6.wav',\n",
              " 'sub33_bii1.wav',\n",
              " 'sub33_bii2.wav',\n",
              " 'sub33_bii3.wav',\n",
              " 'sub33_bii4.wav',\n",
              " 'sub33_bii5.wav',\n",
              " 'sub33_di1.wav',\n",
              " 'sub33_di2.wav',\n",
              " 'sub33_di3.wav',\n",
              " 'sub33_di4.wav',\n",
              " 'sub33_di5.wav',\n",
              " 'sub33_di6.wav',\n",
              " 'sub33_dii1.wav',\n",
              " 'sub33dii2.wav']"
            ]
          },
          "metadata": {},
          "execution_count": 13
        }
      ]
    },
    {
      "cell_type": "code",
      "source": [
        "for file_name in files_to_rename:    \n",
        "    os.rename(audio_files[1] + '/' + file_name,                          #   os.rename(source, destination)\n",
        "          audio_files[1] + '/' + file_name.replace('sub33_me', 'sub33_mi'))"
      ],
      "metadata": {
        "id": "AtmSByB6rNr5",
        "colab": {
          "base_uri": "https://localhost:8080/",
          "height": 217
        },
        "outputId": "b3ce9663-3602-4418-a25f-e55624fe495f"
      },
      "execution_count": null,
      "outputs": [
        {
          "output_type": "error",
          "ename": "FileNotFoundError",
          "evalue": "ignored",
          "traceback": [
            "\u001b[0;31m---------------------------------------------------------------------------\u001b[0m",
            "\u001b[0;31mFileNotFoundError\u001b[0m                         Traceback (most recent call last)",
            "\u001b[0;32m<ipython-input-12-73ee9c762c75>\u001b[0m in \u001b[0;36m<module>\u001b[0;34m()\u001b[0m\n\u001b[1;32m      1\u001b[0m \u001b[0;32mfor\u001b[0m \u001b[0mfile_name\u001b[0m \u001b[0;32min\u001b[0m \u001b[0mfiles_to_rename\u001b[0m\u001b[0;34m:\u001b[0m\u001b[0;34m\u001b[0m\u001b[0;34m\u001b[0m\u001b[0m\n\u001b[1;32m      2\u001b[0m     os.rename(audio_files[1] + '/' + file_name,                          #   os.rename(source, destination)\n\u001b[0;32m----> 3\u001b[0;31m           audio_files[1] + '/' + file_name.replace('sub33_me', 'sub33_mi'))\n\u001b[0m",
            "\u001b[0;31mFileNotFoundError\u001b[0m: [Errno 2] No such file or directory: '/content/gdrive/My Drive/Nikhil_syllablewaves/S41/sub33_dee3.wav' -> '/content/gdrive/My Drive/Nikhil_syllablewaves/S41/sub33_dee3.wav'"
          ]
        }
      ]
    },
    {
      "cell_type": "code",
      "source": [],
      "metadata": {
        "id": "kUHYMjy0uzyH"
      },
      "execution_count": null,
      "outputs": []
    },
    {
      "cell_type": "code",
      "source": [
        "\n"
      ],
      "metadata": {
        "colab": {
          "base_uri": "https://localhost:8080/",
          "height": 235
        },
        "id": "f_2APNKru87K",
        "outputId": "bf974e8d-0cc5-4209-9b0f-009eda2e6187"
      },
      "execution_count": null,
      "outputs": [
        {
          "output_type": "error",
          "ename": "FileNotFoundError",
          "evalue": "ignored",
          "traceback": [
            "\u001b[0;31m---------------------------------------------------------------------------\u001b[0m",
            "\u001b[0;31mFileNotFoundError\u001b[0m                         Traceback (most recent call last)",
            "\u001b[0;32m<ipython-input-14-d4cd384ae6b8>\u001b[0m in \u001b[0;36m<module>\u001b[0;34m()\u001b[0m\n\u001b[1;32m      1\u001b[0m \u001b[0;32mfor\u001b[0m \u001b[0mfile_name\u001b[0m \u001b[0;32min\u001b[0m \u001b[0mfiles_to_rename\u001b[0m\u001b[0;34m:\u001b[0m\u001b[0;34m\u001b[0m\u001b[0;34m\u001b[0m\u001b[0m\n\u001b[1;32m      2\u001b[0m     os.rename(audio_files[0] + '/' + file_name,                          #   os.rename(source, destination)\n\u001b[0;32m----> 3\u001b[0;31m           audio_files[0] + '/' + file_name.replace('sub32_de', 'sub32_di'))\n\u001b[0m\u001b[1;32m      4\u001b[0m \u001b[0;34m\u001b[0m\u001b[0m\n",
            "\u001b[0;31mFileNotFoundError\u001b[0m: [Errno 2] No such file or directory: '/content/gdrive/My Drive/Nikhil_syllablewaves/S38/sub32_de3.wav' -> '/content/gdrive/My Drive/Nikhil_syllablewaves/S38/sub32_di3.wav'"
          ]
        }
      ]
    },
    {
      "cell_type": "code",
      "source": [
        "for file_name in files_to_rename:    \n",
        "    os.rename(audio_files[0] + '/' + file_name,                          #   os.rename(source, destination)\n",
        "          audio_files[0] + '/' + file_name.replace('sub32_de', 'sub32_di'))\n",
        "    \n",
        "for file_name in files_to_rename:    \n",
        "    os.rename(audio_files[0] + '/' + file_name,                          #   os.rename(source, destination)\n",
        "          audio_files[0] + '/' + file_name.replace('sub32_bow', 'sub32_bau'))\n",
        "    \n",
        "for file_name in files_to_rename:    \n",
        "    os.rename(audio_files[0] + '/' + file_name,                          #   os.rename(source, destination)\n",
        "          audio_files[0] + '/' + file_name.replace('sub32_be', 'sub32_bi'))\n",
        "    \n",
        "for file_name in files_to_rename:    \n",
        "    os.rename(audio_files[0] + '/' + file_name,                          #   os.rename(source, destination)\n",
        "          audio_files[0] + '/' + file_name.replace('sub32_bee', 'sub32_bii'))\n",
        "    \n",
        "for file_name in files_to_rename:    \n",
        "    os.rename(audio_files[0] + '/' + file_name,                          #   os.rename(source, destination)\n",
        "          audio_files[0] + '/' + file_name.replace('sub32_ge', 'sub32_gi'))"
      ],
      "metadata": {
        "id": "VZ25mh2Z5pCv"
      },
      "execution_count": null,
      "outputs": []
    }
  ]
}