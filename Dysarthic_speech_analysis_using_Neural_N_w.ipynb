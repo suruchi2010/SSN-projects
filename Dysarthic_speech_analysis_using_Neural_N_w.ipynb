{
  "nbformat": 4,
  "nbformat_minor": 0,
  "metadata": {
    "colab": {
      "provenance": [],
      "authorship_tag": "ABX9TyN9fxlhpH40DEdf8D9jJ1hj",
      "include_colab_link": true
    },
    "kernelspec": {
      "name": "python3",
      "display_name": "Python 3"
    },
    "language_info": {
      "name": "python"
    }
  },
  "cells": [
    {
      "cell_type": "markdown",
      "metadata": {
        "id": "view-in-github",
        "colab_type": "text"
      },
      "source": [
        "<a href=\"https://colab.research.google.com/github/suruchi2010/SSN-projects/blob/main/Dysarthic_speech_analysis_using_Neural_N_w.ipynb\" target=\"_parent\"><img src=\"https://colab.research.google.com/assets/colab-badge.svg\" alt=\"Open In Colab\"/></a>"
      ]
    },
    {
      "cell_type": "code",
      "execution_count": null,
      "metadata": {
        "id": "-DvBVwUssBtM"
      },
      "outputs": [],
      "source": [
        "import glob\n",
        "import numpy as np\n",
        "import pandas as pd\n",
        "import statistics\n",
        "import matplotlib.pyplot as plt\n",
        "import seaborn as sns\n",
        "\n",
        "from scipy.stats.mstats import zscore\n",
        "from sklearn.decomposition import PCA\n",
        "from sklearn.preprocessing import StandardScaler"
      ]
    },
    {
      "cell_type": "code",
      "source": [
        "import librosa\n",
        "import soundfile\n",
        "import os, glob, pickle\n",
        "import numpy as np\n",
        "from sklearn.model_selection import train_test_split\n",
        "from sklearn.neural_network import MLPClassifier\n",
        "from sklearn.metrics import accuracy_score"
      ],
      "metadata": {
        "id": "hHm7vr7jsQT7"
      },
      "execution_count": null,
      "outputs": []
    },
    {
      "cell_type": "code",
      "source": [
        "from glob import glob \n",
        "#glob()\n",
        "\n",
        "from google.colab import drive\n",
        "drive.mount('/content/gdrive',force_remount=True)\n",
        "\n",
        "path = \"/content/gdrive/My Drive/UA_PHASE\"\n",
        "audio_files= glob(path + '/*/*/*.wav', recursive=True)\n",
        "audio_files\n",
        "#len(audio_files)"
      ],
      "metadata": {
        "colab": {
          "base_uri": "https://localhost:8080/"
        },
        "id": "sAuWAq3as-Ss",
        "outputId": "dc95d67e-98e6-424a-9178-00e373f6a114"
      },
      "execution_count": null,
      "outputs": [
        {
          "output_type": "stream",
          "name": "stdout",
          "text": [
            "Mounted at /content/gdrive\n"
          ]
        },
        {
          "output_type": "execute_result",
          "data": {
            "text/plain": [
              "['/content/gdrive/My Drive/UA_PHASE/F02_MILD/digits/EIGHT_12.wav',\n",
              " '/content/gdrive/My Drive/UA_PHASE/F02_MILD/digits/EIGHT_23.wav',\n",
              " '/content/gdrive/My Drive/UA_PHASE/F02_MILD/digits/EIGHT_18.wav',\n",
              " '/content/gdrive/My Drive/UA_PHASE/F02_MILD/digits/EIGHT_24.wav',\n",
              " '/content/gdrive/My Drive/UA_PHASE/F02_MILD/digits/EIGHT_22.wav',\n",
              " '/content/gdrive/My Drive/UA_PHASE/F02_MILD/digits/EIGHT_15.wav',\n",
              " '/content/gdrive/My Drive/UA_PHASE/F02_MILD/digits/EIGHT_13.wav',\n",
              " '/content/gdrive/My Drive/UA_PHASE/F02_MILD/digits/EIGHT_16.wav',\n",
              " '/content/gdrive/My Drive/UA_PHASE/F02_MILD/digits/EIGHT_14.wav',\n",
              " '/content/gdrive/My Drive/UA_PHASE/F02_MILD/digits/EIGHT_17.wav',\n",
              " '/content/gdrive/My Drive/UA_PHASE/F02_MILD/letters/ALPHA_15.wav',\n",
              " '/content/gdrive/My Drive/UA_PHASE/F02_MILD/letters/ALPHA_23.wav',\n",
              " '/content/gdrive/My Drive/UA_PHASE/F02_MILD/letters/ALPHA_16.wav',\n",
              " '/content/gdrive/My Drive/UA_PHASE/F02_MILD/letters/ALPHA_12.wav',\n",
              " '/content/gdrive/My Drive/UA_PHASE/F02_MILD/letters/ALPHA_18.wav',\n",
              " '/content/gdrive/My Drive/UA_PHASE/F02_MILD/letters/ALPHA_14.wav',\n",
              " '/content/gdrive/My Drive/UA_PHASE/F02_MILD/letters/ALPHA_13.wav',\n",
              " '/content/gdrive/My Drive/UA_PHASE/F02_MILD/letters/ALPHA_24.wav',\n",
              " '/content/gdrive/My Drive/UA_PHASE/F02_MILD/letters/ALPHA_17.wav',\n",
              " '/content/gdrive/My Drive/UA_PHASE/F02_MILD/letters/ALPHA_22.wav',\n",
              " '/content/gdrive/My Drive/UA_PHASE/F02_MILD/commands/ALT_16.wav',\n",
              " '/content/gdrive/My Drive/UA_PHASE/F02_MILD/commands/ALT_24.wav',\n",
              " '/content/gdrive/My Drive/UA_PHASE/F02_MILD/commands/ALT_22.wav',\n",
              " '/content/gdrive/My Drive/UA_PHASE/F02_MILD/commands/ALT_17.wav',\n",
              " '/content/gdrive/My Drive/UA_PHASE/F02_MILD/commands/ALT_18.wav',\n",
              " '/content/gdrive/My Drive/UA_PHASE/F02_MILD/commands/ALT_13.wav',\n",
              " '/content/gdrive/My Drive/UA_PHASE/F02_MILD/commands/ALT_15.wav',\n",
              " '/content/gdrive/My Drive/UA_PHASE/F02_MILD/commands/ALT_12.wav',\n",
              " '/content/gdrive/My Drive/UA_PHASE/F02_MILD/commands/ALT_23.wav',\n",
              " '/content/gdrive/My Drive/UA_PHASE/F02_MILD/commands/ALT_14.wav',\n",
              " '/content/gdrive/My Drive/UA_PHASE/F05_HIGH/commands/ALT_22.wav',\n",
              " '/content/gdrive/My Drive/UA_PHASE/F05_HIGH/commands/ALT_16.wav',\n",
              " '/content/gdrive/My Drive/UA_PHASE/F05_HIGH/commands/ALT_14.wav',\n",
              " '/content/gdrive/My Drive/UA_PHASE/F05_HIGH/commands/ALT_15.wav',\n",
              " '/content/gdrive/My Drive/UA_PHASE/F05_HIGH/commands/ALT_12.wav',\n",
              " '/content/gdrive/My Drive/UA_PHASE/F05_HIGH/commands/ALT_24.wav',\n",
              " '/content/gdrive/My Drive/UA_PHASE/F05_HIGH/commands/ALT_18.wav',\n",
              " '/content/gdrive/My Drive/UA_PHASE/F05_HIGH/commands/ALT_17.wav',\n",
              " '/content/gdrive/My Drive/UA_PHASE/F05_HIGH/commands/ALT_13.wav',\n",
              " '/content/gdrive/My Drive/UA_PHASE/F05_HIGH/commands/ALT_23.wav',\n",
              " '/content/gdrive/My Drive/UA_PHASE/F05_HIGH/letters/ALPHA_22.wav',\n",
              " '/content/gdrive/My Drive/UA_PHASE/F05_HIGH/letters/ALPHA_14.wav',\n",
              " '/content/gdrive/My Drive/UA_PHASE/F05_HIGH/letters/ALPHA_18.wav',\n",
              " '/content/gdrive/My Drive/UA_PHASE/F05_HIGH/letters/ALPHA_13.wav',\n",
              " '/content/gdrive/My Drive/UA_PHASE/F05_HIGH/letters/ALPHA_12.wav',\n",
              " '/content/gdrive/My Drive/UA_PHASE/F05_HIGH/letters/ALPHA_15.wav',\n",
              " '/content/gdrive/My Drive/UA_PHASE/F05_HIGH/letters/ALPHA_16.wav',\n",
              " '/content/gdrive/My Drive/UA_PHASE/F05_HIGH/letters/ALPHA_24.wav',\n",
              " '/content/gdrive/My Drive/UA_PHASE/F05_HIGH/letters/ALPHA_23.wav',\n",
              " '/content/gdrive/My Drive/UA_PHASE/F05_HIGH/letters/ALPHA_17.wav',\n",
              " '/content/gdrive/My Drive/UA_PHASE/F05_HIGH/digits/EIGHT_23.wav',\n",
              " '/content/gdrive/My Drive/UA_PHASE/F05_HIGH/digits/EIGHT_22.wav',\n",
              " '/content/gdrive/My Drive/UA_PHASE/F05_HIGH/digits/EIGHT_15.wav',\n",
              " '/content/gdrive/My Drive/UA_PHASE/F05_HIGH/digits/EIGHT_17.wav',\n",
              " '/content/gdrive/My Drive/UA_PHASE/F05_HIGH/digits/EIGHT_13.wav',\n",
              " '/content/gdrive/My Drive/UA_PHASE/F05_HIGH/digits/EIGHT_24.wav',\n",
              " '/content/gdrive/My Drive/UA_PHASE/F05_HIGH/digits/EIGHT_16.wav',\n",
              " '/content/gdrive/My Drive/UA_PHASE/F05_HIGH/digits/EIGHT_18.wav',\n",
              " '/content/gdrive/My Drive/UA_PHASE/F05_HIGH/digits/EIGHT_14.wav',\n",
              " '/content/gdrive/My Drive/UA_PHASE/F05_HIGH/digits/EIGHT_12.wav',\n",
              " '/content/gdrive/My Drive/UA_PHASE/M09_HIGH/letters/ALPHA_18.wav',\n",
              " '/content/gdrive/My Drive/UA_PHASE/M09_HIGH/letters/ALPHA_13.wav',\n",
              " '/content/gdrive/My Drive/UA_PHASE/M09_HIGH/letters/ALPHA_23.wav',\n",
              " '/content/gdrive/My Drive/UA_PHASE/M09_HIGH/letters/ALPHA_17.wav',\n",
              " '/content/gdrive/My Drive/UA_PHASE/M09_HIGH/letters/ALPHA_12.wav',\n",
              " '/content/gdrive/My Drive/UA_PHASE/M09_HIGH/letters/ALPHA_22.wav',\n",
              " '/content/gdrive/My Drive/UA_PHASE/M09_HIGH/letters/ALPHA_15.wav',\n",
              " '/content/gdrive/My Drive/UA_PHASE/M09_HIGH/letters/ALPHA_14.wav',\n",
              " '/content/gdrive/My Drive/UA_PHASE/M09_HIGH/letters/ALPHA_16.wav',\n",
              " '/content/gdrive/My Drive/UA_PHASE/M09_HIGH/letters/ALPHA_24.wav',\n",
              " '/content/gdrive/My Drive/UA_PHASE/M09_HIGH/digits/EIGHT_18.wav',\n",
              " '/content/gdrive/My Drive/UA_PHASE/M09_HIGH/digits/EIGHT_22.wav',\n",
              " '/content/gdrive/My Drive/UA_PHASE/M09_HIGH/digits/EIGHT_17.wav',\n",
              " '/content/gdrive/My Drive/UA_PHASE/M09_HIGH/digits/EIGHT_23.wav',\n",
              " '/content/gdrive/My Drive/UA_PHASE/M09_HIGH/digits/EIGHT_13.wav',\n",
              " '/content/gdrive/My Drive/UA_PHASE/M09_HIGH/digits/EIGHT_15.wav',\n",
              " '/content/gdrive/My Drive/UA_PHASE/M09_HIGH/digits/EIGHT_12.wav',\n",
              " '/content/gdrive/My Drive/UA_PHASE/M09_HIGH/digits/EIGHT_24.wav',\n",
              " '/content/gdrive/My Drive/UA_PHASE/M09_HIGH/digits/EIGHT_16.wav',\n",
              " '/content/gdrive/My Drive/UA_PHASE/M09_HIGH/digits/EIGHT_14.wav',\n",
              " '/content/gdrive/My Drive/UA_PHASE/M09_HIGH/commands/ALT_17.wav',\n",
              " '/content/gdrive/My Drive/UA_PHASE/M09_HIGH/commands/ALT_13.wav',\n",
              " '/content/gdrive/My Drive/UA_PHASE/M09_HIGH/commands/ALT_15.wav',\n",
              " '/content/gdrive/My Drive/UA_PHASE/M09_HIGH/commands/ALT_24.wav',\n",
              " '/content/gdrive/My Drive/UA_PHASE/M09_HIGH/commands/ALT_12.wav',\n",
              " '/content/gdrive/My Drive/UA_PHASE/M09_HIGH/commands/ALT_14.wav',\n",
              " '/content/gdrive/My Drive/UA_PHASE/M09_HIGH/commands/ALT_16.wav',\n",
              " '/content/gdrive/My Drive/UA_PHASE/M09_HIGH/commands/ALT_23.wav',\n",
              " '/content/gdrive/My Drive/UA_PHASE/M09_HIGH/commands/ALT_22.wav',\n",
              " '/content/gdrive/My Drive/UA_PHASE/M09_HIGH/commands/ALT_18.wav',\n",
              " '/content/gdrive/My Drive/UA_PHASE/F03_LOW/digits/EIGHT_17.wav',\n",
              " '/content/gdrive/My Drive/UA_PHASE/F03_LOW/digits/EIGHT_18.wav',\n",
              " '/content/gdrive/My Drive/UA_PHASE/F03_LOW/digits/EIGHT_24.wav',\n",
              " '/content/gdrive/My Drive/UA_PHASE/F03_LOW/digits/EIGHT_16.wav',\n",
              " '/content/gdrive/My Drive/UA_PHASE/F03_LOW/digits/EIGHT_22.wav',\n",
              " '/content/gdrive/My Drive/UA_PHASE/F03_LOW/digits/EIGHT_14.wav',\n",
              " '/content/gdrive/My Drive/UA_PHASE/F03_LOW/digits/EIGHT_12.wav',\n",
              " '/content/gdrive/My Drive/UA_PHASE/F03_LOW/digits/EIGHT_23.wav',\n",
              " '/content/gdrive/My Drive/UA_PHASE/F03_LOW/digits/EIGHT_15.wav',\n",
              " '/content/gdrive/My Drive/UA_PHASE/F03_LOW/digits/EIGHT_13.wav',\n",
              " '/content/gdrive/My Drive/UA_PHASE/F03_LOW/letters/ALPHA_14.wav',\n",
              " '/content/gdrive/My Drive/UA_PHASE/F03_LOW/letters/ALPHA_17.wav',\n",
              " '/content/gdrive/My Drive/UA_PHASE/F03_LOW/letters/ALPHA_12.wav',\n",
              " '/content/gdrive/My Drive/UA_PHASE/F03_LOW/letters/ALPHA_18.wav',\n",
              " '/content/gdrive/My Drive/UA_PHASE/F03_LOW/letters/ALPHA_16.wav',\n",
              " '/content/gdrive/My Drive/UA_PHASE/F03_LOW/letters/ALPHA_15.wav',\n",
              " '/content/gdrive/My Drive/UA_PHASE/F03_LOW/letters/ALPHA_24.wav',\n",
              " '/content/gdrive/My Drive/UA_PHASE/F03_LOW/letters/ALPHA_23.wav',\n",
              " '/content/gdrive/My Drive/UA_PHASE/F03_LOW/letters/ALPHA_13.wav',\n",
              " '/content/gdrive/My Drive/UA_PHASE/F03_LOW/letters/ALPHA_22.wav',\n",
              " '/content/gdrive/My Drive/UA_PHASE/M04_LOW/letters/ALPHA_27.wav',\n",
              " '/content/gdrive/My Drive/UA_PHASE/M04_LOW/letters/ALPHA_23.wav',\n",
              " '/content/gdrive/My Drive/UA_PHASE/M04_LOW/letters/ALPHA_16.wav',\n",
              " '/content/gdrive/My Drive/UA_PHASE/M04_LOW/letters/ALPHA_28.wav',\n",
              " '/content/gdrive/My Drive/UA_PHASE/M04_LOW/letters/ALPHA_17.wav',\n",
              " '/content/gdrive/My Drive/UA_PHASE/M04_LOW/letters/ALPHA_26.wav',\n",
              " '/content/gdrive/My Drive/UA_PHASE/M04_LOW/letters/ALPHA_13.wav',\n",
              " '/content/gdrive/My Drive/UA_PHASE/M04_LOW/letters/ALPHA_15.wav',\n",
              " '/content/gdrive/My Drive/UA_PHASE/M04_LOW/letters/ALPHA_25.wav',\n",
              " '/content/gdrive/My Drive/UA_PHASE/M04_LOW/letters/ALPHA_18.wav',\n",
              " '/content/gdrive/My Drive/UA_PHASE/M04_LOW/digits/EIGHT_23.wav',\n",
              " '/content/gdrive/My Drive/UA_PHASE/M04_LOW/digits/EIGHT_13.wav',\n",
              " '/content/gdrive/My Drive/UA_PHASE/M04_LOW/digits/EIGHT_15.wav',\n",
              " '/content/gdrive/My Drive/UA_PHASE/M04_LOW/digits/EIGHT_17.wav',\n",
              " '/content/gdrive/My Drive/UA_PHASE/M04_LOW/digits/EIGHT_18.wav',\n",
              " '/content/gdrive/My Drive/UA_PHASE/M04_LOW/digits/EIGHT_16.wav',\n",
              " '/content/gdrive/My Drive/UA_PHASE/M04_LOW/digits/EIGHT_26.wav',\n",
              " '/content/gdrive/My Drive/UA_PHASE/M04_LOW/digits/EIGHT_27.wav',\n",
              " '/content/gdrive/My Drive/UA_PHASE/M04_LOW/digits/EIGHT_28.wav',\n",
              " '/content/gdrive/My Drive/UA_PHASE/M04_LOW/digits/EIGHT_25.wav',\n",
              " '/content/gdrive/My Drive/UA_PHASE/M04_LOW/commands/ALT_27.wav',\n",
              " '/content/gdrive/My Drive/UA_PHASE/M04_LOW/commands/ALT_13.wav',\n",
              " '/content/gdrive/My Drive/UA_PHASE/M04_LOW/commands/ALT_28.wav',\n",
              " '/content/gdrive/My Drive/UA_PHASE/M04_LOW/commands/ALT_17.wav',\n",
              " '/content/gdrive/My Drive/UA_PHASE/M04_LOW/commands/ALT_16.wav',\n",
              " '/content/gdrive/My Drive/UA_PHASE/M04_LOW/commands/ALT_25.wav',\n",
              " '/content/gdrive/My Drive/UA_PHASE/M04_LOW/commands/ALT_15.wav',\n",
              " '/content/gdrive/My Drive/UA_PHASE/M04_LOW/commands/ALT_18.wav',\n",
              " '/content/gdrive/My Drive/UA_PHASE/M04_LOW/commands/ALT_23.wav',\n",
              " '/content/gdrive/My Drive/UA_PHASE/M04_LOW/commands/ALT_26.wav',\n",
              " '/content/gdrive/My Drive/UA_PHASE/M07_MILD/commands/ALT_12.wav',\n",
              " '/content/gdrive/My Drive/UA_PHASE/M07_MILD/commands/ALT_16.wav',\n",
              " '/content/gdrive/My Drive/UA_PHASE/M07_MILD/commands/ALT_24.wav',\n",
              " '/content/gdrive/My Drive/UA_PHASE/M07_MILD/commands/ALT_15.wav',\n",
              " '/content/gdrive/My Drive/UA_PHASE/M07_MILD/commands/ALT_23.wav',\n",
              " '/content/gdrive/My Drive/UA_PHASE/M07_MILD/commands/ALT_13.wav',\n",
              " '/content/gdrive/My Drive/UA_PHASE/M07_MILD/commands/ALT_14.wav',\n",
              " '/content/gdrive/My Drive/UA_PHASE/M07_MILD/commands/ALT_22.wav',\n",
              " '/content/gdrive/My Drive/UA_PHASE/M07_MILD/commands/ALT_18.wav',\n",
              " '/content/gdrive/My Drive/UA_PHASE/M07_MILD/commands/ALT_17.wav',\n",
              " '/content/gdrive/My Drive/UA_PHASE/M07_MILD/digits/EIGHT_12.wav',\n",
              " '/content/gdrive/My Drive/UA_PHASE/M07_MILD/digits/EIGHT_22.wav',\n",
              " '/content/gdrive/My Drive/UA_PHASE/M07_MILD/digits/EIGHT_13.wav',\n",
              " '/content/gdrive/My Drive/UA_PHASE/M07_MILD/digits/EIGHT_24.wav',\n",
              " '/content/gdrive/My Drive/UA_PHASE/M07_MILD/digits/EIGHT_14.wav',\n",
              " '/content/gdrive/My Drive/UA_PHASE/M07_MILD/digits/EIGHT_18.wav',\n",
              " '/content/gdrive/My Drive/UA_PHASE/M07_MILD/digits/EIGHT_17.wav',\n",
              " '/content/gdrive/My Drive/UA_PHASE/M07_MILD/digits/EIGHT_23.wav',\n",
              " '/content/gdrive/My Drive/UA_PHASE/M07_MILD/digits/EIGHT_15.wav',\n",
              " '/content/gdrive/My Drive/UA_PHASE/M07_MILD/digits/EIGHT_16.wav',\n",
              " '/content/gdrive/My Drive/UA_PHASE/M07_MILD/letters/ALPHA_13.wav',\n",
              " '/content/gdrive/My Drive/UA_PHASE/M07_MILD/letters/ALPHA_23.wav',\n",
              " '/content/gdrive/My Drive/UA_PHASE/M07_MILD/letters/ALPHA_12.wav',\n",
              " '/content/gdrive/My Drive/UA_PHASE/M07_MILD/letters/ALPHA_24.wav',\n",
              " '/content/gdrive/My Drive/UA_PHASE/M07_MILD/letters/ALPHA_15.wav',\n",
              " '/content/gdrive/My Drive/UA_PHASE/M07_MILD/letters/ALPHA_16.wav',\n",
              " '/content/gdrive/My Drive/UA_PHASE/M07_MILD/letters/ALPHA_18.wav',\n",
              " '/content/gdrive/My Drive/UA_PHASE/M07_MILD/letters/ALPHA_17.wav',\n",
              " '/content/gdrive/My Drive/UA_PHASE/M07_MILD/letters/ALPHA_14.wav',\n",
              " '/content/gdrive/My Drive/UA_PHASE/M07_MILD/letters/ALPHA_22.wav',\n",
              " '/content/gdrive/My Drive/UA_PHASE/M11_MOD/commands/ALT_18.wav',\n",
              " '/content/gdrive/My Drive/UA_PHASE/M11_MOD/commands/ALT_15.wav',\n",
              " '/content/gdrive/My Drive/UA_PHASE/M11_MOD/commands/ALT_23.wav',\n",
              " '/content/gdrive/My Drive/UA_PHASE/M11_MOD/commands/ALT_26.wav',\n",
              " '/content/gdrive/My Drive/UA_PHASE/M11_MOD/commands/ALT_13.wav',\n",
              " '/content/gdrive/My Drive/UA_PHASE/M11_MOD/commands/ALT_17.wav',\n",
              " '/content/gdrive/My Drive/UA_PHASE/M11_MOD/commands/ALT_14.wav',\n",
              " '/content/gdrive/My Drive/UA_PHASE/M11_MOD/commands/ALT_16.wav',\n",
              " '/content/gdrive/My Drive/UA_PHASE/M11_MOD/commands/ALT_25.wav',\n",
              " '/content/gdrive/My Drive/UA_PHASE/M11_MOD/commands/ALT_24.wav',\n",
              " '/content/gdrive/My Drive/UA_PHASE/M11_MOD/letters/ALPHA_24.wav',\n",
              " '/content/gdrive/My Drive/UA_PHASE/M11_MOD/letters/ALPHA_26.wav',\n",
              " '/content/gdrive/My Drive/UA_PHASE/M11_MOD/letters/ALPHA_18.wav',\n",
              " '/content/gdrive/My Drive/UA_PHASE/M11_MOD/letters/ALPHA_23.wav',\n",
              " '/content/gdrive/My Drive/UA_PHASE/M11_MOD/letters/ALPHA_14.wav',\n",
              " '/content/gdrive/My Drive/UA_PHASE/M11_MOD/letters/ALPHA_25.wav',\n",
              " '/content/gdrive/My Drive/UA_PHASE/M11_MOD/letters/ALPHA_13.wav',\n",
              " '/content/gdrive/My Drive/UA_PHASE/M11_MOD/letters/ALPHA_16.wav',\n",
              " '/content/gdrive/My Drive/UA_PHASE/M11_MOD/letters/ALPHA_15.wav',\n",
              " '/content/gdrive/My Drive/UA_PHASE/M11_MOD/letters/ALPHA_17.wav',\n",
              " '/content/gdrive/My Drive/UA_PHASE/M11_MOD/digits/EIGHT_13.wav',\n",
              " '/content/gdrive/My Drive/UA_PHASE/M11_MOD/digits/EIGHT_18.wav',\n",
              " '/content/gdrive/My Drive/UA_PHASE/M11_MOD/digits/EIGHT_17.wav',\n",
              " '/content/gdrive/My Drive/UA_PHASE/M11_MOD/digits/EIGHT_15.wav',\n",
              " '/content/gdrive/My Drive/UA_PHASE/M11_MOD/digits/EIGHT_14.wav',\n",
              " '/content/gdrive/My Drive/UA_PHASE/M11_MOD/digits/EIGHT_23.wav',\n",
              " '/content/gdrive/My Drive/UA_PHASE/M11_MOD/digits/EIGHT_26.wav',\n",
              " '/content/gdrive/My Drive/UA_PHASE/M11_MOD/digits/EIGHT_25.wav',\n",
              " '/content/gdrive/My Drive/UA_PHASE/M11_MOD/digits/EIGHT_16.wav',\n",
              " '/content/gdrive/My Drive/UA_PHASE/M11_MOD/digits/EIGHT_24.wav',\n",
              " '/content/gdrive/My Drive/UA_PHASE/MO5_MODERATE/digits/EIGHT_14.wav',\n",
              " '/content/gdrive/My Drive/UA_PHASE/MO5_MODERATE/digits/EIGHT_23.wav',\n",
              " '/content/gdrive/My Drive/UA_PHASE/MO5_MODERATE/digits/EIGHT_13.wav',\n",
              " '/content/gdrive/My Drive/UA_PHASE/MO5_MODERATE/digits/EIGHT_12.wav',\n",
              " '/content/gdrive/My Drive/UA_PHASE/MO5_MODERATE/digits/EIGHT_16.wav',\n",
              " '/content/gdrive/My Drive/UA_PHASE/MO5_MODERATE/digits/EIGHT_17.wav',\n",
              " '/content/gdrive/My Drive/UA_PHASE/MO5_MODERATE/digits/EIGHT_15.wav',\n",
              " '/content/gdrive/My Drive/UA_PHASE/MO5_MODERATE/digits/EIGHT_24.wav',\n",
              " '/content/gdrive/My Drive/UA_PHASE/MO5_MODERATE/digits/EIGHT_18.wav',\n",
              " '/content/gdrive/My Drive/UA_PHASE/MO5_MODERATE/digits/EIGHT_22.wav',\n",
              " '/content/gdrive/My Drive/UA_PHASE/MO5_MODERATE/commands/ALT_24.wav',\n",
              " '/content/gdrive/My Drive/UA_PHASE/MO5_MODERATE/commands/ALT_14.wav',\n",
              " '/content/gdrive/My Drive/UA_PHASE/MO5_MODERATE/commands/ALT_16.wav',\n",
              " '/content/gdrive/My Drive/UA_PHASE/MO5_MODERATE/commands/ALT_13.wav',\n",
              " '/content/gdrive/My Drive/UA_PHASE/MO5_MODERATE/commands/ALT_22.wav',\n",
              " '/content/gdrive/My Drive/UA_PHASE/MO5_MODERATE/commands/ALT_23.wav',\n",
              " '/content/gdrive/My Drive/UA_PHASE/MO5_MODERATE/commands/ALT_18.wav',\n",
              " '/content/gdrive/My Drive/UA_PHASE/MO5_MODERATE/commands/ALT_15.wav',\n",
              " '/content/gdrive/My Drive/UA_PHASE/MO5_MODERATE/commands/ALT_17.wav',\n",
              " '/content/gdrive/My Drive/UA_PHASE/MO5_MODERATE/commands/ALT_12.wav',\n",
              " '/content/gdrive/My Drive/UA_PHASE/MO5_MODERATE/letter/ALPHA_13.wav',\n",
              " '/content/gdrive/My Drive/UA_PHASE/MO5_MODERATE/letter/ALPHA_12.wav',\n",
              " '/content/gdrive/My Drive/UA_PHASE/MO5_MODERATE/letter/ALPHA_18.wav',\n",
              " '/content/gdrive/My Drive/UA_PHASE/MO5_MODERATE/letter/ALPHA_15.wav',\n",
              " '/content/gdrive/My Drive/UA_PHASE/MO5_MODERATE/letter/ALPHA_14.wav',\n",
              " '/content/gdrive/My Drive/UA_PHASE/MO5_MODERATE/letter/ALPHA_22.wav',\n",
              " '/content/gdrive/My Drive/UA_PHASE/MO5_MODERATE/letter/ALPHA_24.wav',\n",
              " '/content/gdrive/My Drive/UA_PHASE/MO5_MODERATE/letter/ALPHA_17.wav',\n",
              " '/content/gdrive/My Drive/UA_PHASE/MO5_MODERATE/letter/ALPHA_16.wav',\n",
              " '/content/gdrive/My Drive/UA_PHASE/MO5_MODERATE/letter/ALPHA_23.wav']"
            ]
          },
          "metadata": {},
          "execution_count": 12
        }
      ]
    },
    {
      "cell_type": "markdown",
      "source": [],
      "metadata": {
        "id": "Z3U_0-vEI7FN"
      }
    },
    {
      "cell_type": "code",
      "source": [
        "for file in (audio_files):\n",
        "        #file_name=os.path.basename(file)\n",
        "         type(file)\n",
        "        # We create an empty list where we will append all the speakers severity for \n",
        "        # each row of our dataframe by slicing the file name \n",
        "         speaker_severity = []\n",
        "         for i in audio_files:\n",
        "           #print(i)\n",
        "           x=i.split('/')[5]\n",
        "           speaker_severity.append(x.split('_')[1])\n",
        "           \n",
        "#len(speaker_severity)\n",
        "speaker_severity"
      ],
      "metadata": {
        "colab": {
          "base_uri": "https://localhost:8080/"
        },
        "id": "F74tGz9TI8D8",
        "outputId": "53e60289-574a-4a18-c4aa-e35506519518"
      },
      "execution_count": null,
      "outputs": [
        {
          "output_type": "execute_result",
          "data": {
            "text/plain": [
              "['MILD',\n",
              " 'MILD',\n",
              " 'MILD',\n",
              " 'MILD',\n",
              " 'MILD',\n",
              " 'MILD',\n",
              " 'MILD',\n",
              " 'MILD',\n",
              " 'MILD',\n",
              " 'MILD',\n",
              " 'MILD',\n",
              " 'MILD',\n",
              " 'MILD',\n",
              " 'MILD',\n",
              " 'MILD',\n",
              " 'MILD',\n",
              " 'MILD',\n",
              " 'MILD',\n",
              " 'MILD',\n",
              " 'MILD',\n",
              " 'MILD',\n",
              " 'MILD',\n",
              " 'MILD',\n",
              " 'MILD',\n",
              " 'MILD',\n",
              " 'MILD',\n",
              " 'MILD',\n",
              " 'MILD',\n",
              " 'MILD',\n",
              " 'MILD',\n",
              " 'HIGH',\n",
              " 'HIGH',\n",
              " 'HIGH',\n",
              " 'HIGH',\n",
              " 'HIGH',\n",
              " 'HIGH',\n",
              " 'HIGH',\n",
              " 'HIGH',\n",
              " 'HIGH',\n",
              " 'HIGH',\n",
              " 'HIGH',\n",
              " 'HIGH',\n",
              " 'HIGH',\n",
              " 'HIGH',\n",
              " 'HIGH',\n",
              " 'HIGH',\n",
              " 'HIGH',\n",
              " 'HIGH',\n",
              " 'HIGH',\n",
              " 'HIGH',\n",
              " 'HIGH',\n",
              " 'HIGH',\n",
              " 'HIGH',\n",
              " 'HIGH',\n",
              " 'HIGH',\n",
              " 'HIGH',\n",
              " 'HIGH',\n",
              " 'HIGH',\n",
              " 'HIGH',\n",
              " 'HIGH',\n",
              " 'HIGH',\n",
              " 'HIGH',\n",
              " 'HIGH',\n",
              " 'HIGH',\n",
              " 'HIGH',\n",
              " 'HIGH',\n",
              " 'HIGH',\n",
              " 'HIGH',\n",
              " 'HIGH',\n",
              " 'HIGH',\n",
              " 'HIGH',\n",
              " 'HIGH',\n",
              " 'HIGH',\n",
              " 'HIGH',\n",
              " 'HIGH',\n",
              " 'HIGH',\n",
              " 'HIGH',\n",
              " 'HIGH',\n",
              " 'HIGH',\n",
              " 'HIGH',\n",
              " 'HIGH',\n",
              " 'HIGH',\n",
              " 'HIGH',\n",
              " 'HIGH',\n",
              " 'HIGH',\n",
              " 'HIGH',\n",
              " 'HIGH',\n",
              " 'HIGH',\n",
              " 'HIGH',\n",
              " 'HIGH',\n",
              " 'LOW',\n",
              " 'LOW',\n",
              " 'LOW',\n",
              " 'LOW',\n",
              " 'LOW',\n",
              " 'LOW',\n",
              " 'LOW',\n",
              " 'LOW',\n",
              " 'LOW',\n",
              " 'LOW',\n",
              " 'LOW',\n",
              " 'LOW',\n",
              " 'LOW',\n",
              " 'LOW',\n",
              " 'LOW',\n",
              " 'LOW',\n",
              " 'LOW',\n",
              " 'LOW',\n",
              " 'LOW',\n",
              " 'LOW',\n",
              " 'LOW',\n",
              " 'LOW',\n",
              " 'LOW',\n",
              " 'LOW',\n",
              " 'LOW',\n",
              " 'LOW',\n",
              " 'LOW',\n",
              " 'LOW',\n",
              " 'LOW',\n",
              " 'LOW',\n",
              " 'LOW',\n",
              " 'LOW',\n",
              " 'LOW',\n",
              " 'LOW',\n",
              " 'LOW',\n",
              " 'LOW',\n",
              " 'LOW',\n",
              " 'LOW',\n",
              " 'LOW',\n",
              " 'LOW',\n",
              " 'LOW',\n",
              " 'LOW',\n",
              " 'LOW',\n",
              " 'LOW',\n",
              " 'LOW',\n",
              " 'LOW',\n",
              " 'LOW',\n",
              " 'LOW',\n",
              " 'LOW',\n",
              " 'LOW',\n",
              " 'MILD',\n",
              " 'MILD',\n",
              " 'MILD',\n",
              " 'MILD',\n",
              " 'MILD',\n",
              " 'MILD',\n",
              " 'MILD',\n",
              " 'MILD',\n",
              " 'MILD',\n",
              " 'MILD',\n",
              " 'MILD',\n",
              " 'MILD',\n",
              " 'MILD',\n",
              " 'MILD',\n",
              " 'MILD',\n",
              " 'MILD',\n",
              " 'MILD',\n",
              " 'MILD',\n",
              " 'MILD',\n",
              " 'MILD',\n",
              " 'MILD',\n",
              " 'MILD',\n",
              " 'MILD',\n",
              " 'MILD',\n",
              " 'MILD',\n",
              " 'MILD',\n",
              " 'MILD',\n",
              " 'MILD',\n",
              " 'MILD',\n",
              " 'MILD',\n",
              " 'MOD',\n",
              " 'MOD',\n",
              " 'MOD',\n",
              " 'MOD',\n",
              " 'MOD',\n",
              " 'MOD',\n",
              " 'MOD',\n",
              " 'MOD',\n",
              " 'MOD',\n",
              " 'MOD',\n",
              " 'MOD',\n",
              " 'MOD',\n",
              " 'MOD',\n",
              " 'MOD',\n",
              " 'MOD',\n",
              " 'MOD',\n",
              " 'MOD',\n",
              " 'MOD',\n",
              " 'MOD',\n",
              " 'MOD',\n",
              " 'MOD',\n",
              " 'MOD',\n",
              " 'MOD',\n",
              " 'MOD',\n",
              " 'MOD',\n",
              " 'MOD',\n",
              " 'MOD',\n",
              " 'MOD',\n",
              " 'MOD',\n",
              " 'MOD',\n",
              " 'MODERATE',\n",
              " 'MODERATE',\n",
              " 'MODERATE',\n",
              " 'MODERATE',\n",
              " 'MODERATE',\n",
              " 'MODERATE',\n",
              " 'MODERATE',\n",
              " 'MODERATE',\n",
              " 'MODERATE',\n",
              " 'MODERATE',\n",
              " 'MODERATE',\n",
              " 'MODERATE',\n",
              " 'MODERATE',\n",
              " 'MODERATE',\n",
              " 'MODERATE',\n",
              " 'MODERATE',\n",
              " 'MODERATE',\n",
              " 'MODERATE',\n",
              " 'MODERATE',\n",
              " 'MODERATE',\n",
              " 'MODERATE',\n",
              " 'MODERATE',\n",
              " 'MODERATE',\n",
              " 'MODERATE',\n",
              " 'MODERATE',\n",
              " 'MODERATE',\n",
              " 'MODERATE',\n",
              " 'MODERATE',\n",
              " 'MODERATE',\n",
              " 'MODERATE']"
            ]
          },
          "metadata": {},
          "execution_count": 13
        }
      ]
    },
    {
      "cell_type": "code",
      "source": [
        "def extract_feature(file_name, mfcc, chroma, mel):\n",
        "    with soundfile.SoundFile(file_name) as sound_file:\n",
        "        X = sound_file.read(dtype=\"float32\")\n",
        "        sample_rate=sound_file.samplerate\n",
        "        if chroma:\n",
        "            stft=np.abs(librosa.stft(X))\n",
        "        result=np.array([])\n",
        "        if mfcc:\n",
        "            mfccs=np.mean(librosa.feature.mfcc(y=X, sr=sample_rate, n_mfcc=40).T, axis=0)\n",
        "            result=np.hstack((result, mfccs))\n",
        "        if chroma:\n",
        "            chroma=np.mean(librosa.feature.chroma_stft(S=stft, sr=sample_rate).T,axis=0)\n",
        "            result=np.hstack((result, chroma))\n",
        "        if mel:\n",
        "            mel=np.mean(librosa.feature.melspectrogram(X, sr=sample_rate).T,axis=0)\n",
        "            result=np.hstack((result, mel))\n",
        "        return result"
      ],
      "metadata": {
        "id": "UBJQa4cynwDq"
      },
      "execution_count": null,
      "outputs": []
    },
    {
      "cell_type": "code",
      "source": [
        "#Load the data and extract features for each sound file\n",
        "def load_data(test_size=0.2):\n",
        "    x,y=[],[]\n",
        "    for file in audio_files:\n",
        "\n",
        "        # We create an empty list where we will append all the speakers severity for \n",
        "        # each row of our dataframe by slicing the file name \n",
        "      speaker_severity = []\n",
        "      for i in audio_files:\n",
        "        p=i.split('/')[5]\n",
        "        speaker_severity.append(p.split('_')[1])\n",
        "      y=speaker_severity\n",
        "      feature=extract_feature(file, mfcc=True, chroma=True, mel=True)\n",
        "      x.append(feature)\n",
        "    return train_test_split(np.array(x), np.array(y), test_size=test_size, random_state=9)"
      ],
      "metadata": {
        "id": "hdXAbEwAEFj3"
      },
      "execution_count": null,
      "outputs": []
    },
    {
      "cell_type": "code",
      "source": [
        "# Split the dataset\n",
        "x_train,x_test,y_train,y_test=load_data(test_size=0.25)"
      ],
      "metadata": {
        "id": "__IwgOMHEFv_"
      },
      "execution_count": null,
      "outputs": []
    },
    {
      "cell_type": "code",
      "source": [
        "print((x_train.shape[0], x_test.shape[0]))"
      ],
      "metadata": {
        "id": "FEc69OLpEF6V",
        "colab": {
          "base_uri": "https://localhost:8080/"
        },
        "outputId": "ce46d378-5353-4d51-9533-223d16f0a54c"
      },
      "execution_count": null,
      "outputs": [
        {
          "output_type": "stream",
          "name": "stdout",
          "text": [
            "(172, 58)\n"
          ]
        }
      ]
    },
    {
      "cell_type": "code",
      "source": [
        "# Get the number of features extracted\n",
        "print(f'Features extracted: {x_train.shape[1]}')"
      ],
      "metadata": {
        "id": "7TektJtjsbxL",
        "colab": {
          "base_uri": "https://localhost:8080/"
        },
        "outputId": "a19ae1a4-1b01-4fdd-f7b8-a3d702f6301a"
      },
      "execution_count": null,
      "outputs": [
        {
          "output_type": "stream",
          "name": "stdout",
          "text": [
            "Features extracted: 180\n"
          ]
        }
      ]
    },
    {
      "cell_type": "code",
      "source": [
        "x_train"
      ],
      "metadata": {
        "id": "IznHV92xscDp",
        "colab": {
          "base_uri": "https://localhost:8080/"
        },
        "outputId": "4e76c237-ef08-4785-f8a3-0e33695927e6"
      },
      "execution_count": null,
      "outputs": [
        {
          "output_type": "execute_result",
          "data": {
            "text/plain": [
              "array([[-1.94079773e+02,  5.69517517e+01, -9.75878239e+00, ...,\n",
              "         1.59881124e-03,  1.72159681e-03,  2.60861404e-03],\n",
              "       [-2.78658325e+02,  8.08139267e+01, -8.64119434e+00, ...,\n",
              "         2.66343181e-04,  4.71498206e-04,  3.75899748e-04],\n",
              "       [-1.53271652e+02,  2.99966736e+01,  5.30330896e+00, ...,\n",
              "         4.93320962e-03,  3.74405249e-03,  2.86579318e-03],\n",
              "       ...,\n",
              "       [-1.57972168e+02,  8.06335144e+01, -1.94173717e+01, ...,\n",
              "         3.47955152e-03,  1.30253332e-03,  1.04480225e-03],\n",
              "       [-2.26778503e+02,  7.44884033e+01,  1.27256355e+01, ...,\n",
              "         9.29522561e-04,  9.05037043e-04,  8.05109972e-04],\n",
              "       [-2.06695480e+02,  8.00073013e+01, -1.69285345e+00, ...,\n",
              "         6.68197696e-04,  7.97775865e-04,  9.34533251e-04]])"
            ]
          },
          "metadata": {},
          "execution_count": 33
        }
      ]
    },
    {
      "cell_type": "code",
      "source": [
        "x_test"
      ],
      "metadata": {
        "id": "bz_t4s7LscOd",
        "colab": {
          "base_uri": "https://localhost:8080/"
        },
        "outputId": "3b83ecda-4cbd-4a98-b8f8-162fc36343fe"
      },
      "execution_count": null,
      "outputs": [
        {
          "output_type": "execute_result",
          "data": {
            "text/plain": [
              "array([[-1.41099091e+02,  7.27034302e+01, -6.98947906e+00, ...,\n",
              "         6.42731553e-03,  1.22401165e-02,  1.26556000e-02],\n",
              "       [-1.55954269e+02,  8.41577988e+01,  3.83273277e+01, ...,\n",
              "         2.71459877e-01,  1.20004006e-01,  4.04246598e-02],\n",
              "       [-1.54223495e+02,  2.74929600e+01, -5.55585861e+00, ...,\n",
              "         1.79887563e-03,  2.77071353e-03,  2.88704410e-03],\n",
              "       ...,\n",
              "       [-2.25702927e+02,  6.37568550e+01,  1.66283512e+01, ...,\n",
              "         3.11195850e-03,  5.42705692e-03,  1.33705577e-02],\n",
              "       [-1.80603592e+02,  5.24315872e+01,  3.73338848e-01, ...,\n",
              "         1.79495290e-02,  1.24545870e-02,  8.84552207e-03],\n",
              "       [-2.28668015e+02,  4.69089432e+01,  2.06254044e+01, ...,\n",
              "         2.70805997e-03,  2.03375891e-03,  2.08570319e-03]])"
            ]
          },
          "metadata": {},
          "execution_count": 34
        }
      ]
    },
    {
      "cell_type": "code",
      "source": [
        "from sklearn.preprocessing import StandardScaler\n",
        "ss = StandardScaler()\n",
        "x_train = ss.fit_transform(x_train)\n",
        "x_test = ss.transform(x_test)"
      ],
      "metadata": {
        "id": "VEFTfPMDscYI"
      },
      "execution_count": null,
      "outputs": []
    },
    {
      "cell_type": "code",
      "source": [
        "x_test"
      ],
      "metadata": {
        "colab": {
          "base_uri": "https://localhost:8080/"
        },
        "id": "jcccOsmFE6SZ",
        "outputId": "93bf31a1-b661-4ed8-cd84-07eed9b8e7ab"
      },
      "execution_count": null,
      "outputs": [
        {
          "output_type": "execute_result",
          "data": {
            "text/plain": [
              "array([[ 1.52047046, -0.08905214, -0.30076871, ..., -0.11474093,\n",
              "         0.56205561,  1.25580789],\n",
              "       [ 1.16354443,  0.48714311,  1.83411282, ...,  9.03773158,\n",
              "         9.88849851,  5.37460988],\n",
              "       [ 1.20512981, -2.36329868, -0.23323063, ..., -0.27457665,\n",
              "        -0.25747537, -0.19309774],\n",
              "       ...,\n",
              "       [-0.51230959, -0.53909651,  0.8118708 , ..., -0.22923144,\n",
              "        -0.02758171,  1.36185287],\n",
              "       [ 0.57129409, -1.10879753,  0.04609474, ...,  0.28316015,\n",
              "         0.580617  ,  0.6906841 ],\n",
              "       [-0.58355189, -1.38660606,  1.00017257, ..., -0.24317943,\n",
              "        -0.32125523, -0.31195537]])"
            ]
          },
          "metadata": {},
          "execution_count": 36
        }
      ]
    },
    {
      "cell_type": "code",
      "source": [],
      "metadata": {
        "id": "iYAif_44CysK"
      },
      "execution_count": null,
      "outputs": []
    },
    {
      "cell_type": "code",
      "source": [
        "\n",
        "# Initialize the Multi Layer Perceptron Classifier\n",
        "model=MLPClassifier(alpha=0.01, batch_size=256, epsilon=1e-08, hidden_layer_sizes=(300,), learning_rate='adaptive', max_iter=500)\n",
        "model.fit(x_train,y_train)"
      ],
      "metadata": {
        "colab": {
          "base_uri": "https://localhost:8080/"
        },
        "id": "aDs6tgYfLsPu",
        "outputId": "a28f0506-bba8-47ce-a334-0afbec2226c8"
      },
      "execution_count": null,
      "outputs": [
        {
          "output_type": "stream",
          "name": "stderr",
          "text": [
            "/usr/local/lib/python3.7/dist-packages/sklearn/neural_network/_multilayer_perceptron.py:612: UserWarning: Got `batch_size` less than 1 or larger than sample size. It is going to be clipped\n",
            "  \"Got `batch_size` less than 1 or larger than \"\n"
          ]
        },
        {
          "output_type": "execute_result",
          "data": {
            "text/plain": [
              "MLPClassifier(alpha=0.01, batch_size=256, hidden_layer_sizes=(300,),\n",
              "              learning_rate='adaptive', max_iter=500)"
            ]
          },
          "metadata": {},
          "execution_count": 43
        }
      ]
    },
    {
      "cell_type": "code",
      "source": [
        "y_pred=model.predict(x_test)"
      ],
      "metadata": {
        "id": "DAwxuQMpL3a9"
      },
      "execution_count": null,
      "outputs": []
    },
    {
      "cell_type": "code",
      "source": [
        "y_pred\n"
      ],
      "metadata": {
        "colab": {
          "base_uri": "https://localhost:8080/"
        },
        "id": "itSpZ_uCeN8s",
        "outputId": "d65f032d-3016-4f40-bce2-6d6588b1b17b"
      },
      "execution_count": null,
      "outputs": [
        {
          "output_type": "execute_result",
          "data": {
            "text/plain": [
              "array(['MODERATE', 'HIGH', 'HIGH', 'HIGH', 'MOD', 'HIGH', 'MOD', 'MOD',\n",
              "       'MOD', 'MODERATE', 'LOW', 'HIGH', 'HIGH', 'MOD', 'LOW', 'MILD',\n",
              "       'HIGH', 'MOD', 'MOD', 'MILD', 'HIGH', 'HIGH', 'HIGH', 'HIGH',\n",
              "       'MILD', 'HIGH', 'HIGH', 'MILD', 'MILD', 'MODERATE', 'MILD',\n",
              "       'MODERATE', 'MILD', 'MILD', 'LOW', 'MILD', 'MODERATE', 'MILD',\n",
              "       'MILD', 'MILD', 'MILD', 'LOW', 'MILD', 'MODERATE', 'MODERATE',\n",
              "       'MILD', 'LOW', 'HIGH', 'LOW', 'MILD', 'LOW', 'LOW', 'HIGH', 'HIGH',\n",
              "       'HIGH', 'MILD', 'LOW', 'MILD'], dtype='<U8')"
            ]
          },
          "metadata": {},
          "execution_count": 46
        }
      ]
    },
    {
      "cell_type": "code",
      "source": [
        "#- Calculate the accuracy of our model\n",
        "accuracy=accuracy_score(y_true=y_test, y_pred=y_pred)\n",
        "#- Print the accuracy\n",
        "print(\"Accuracy: {:.2f}%\".format(accuracy*100))"
      ],
      "metadata": {
        "colab": {
          "base_uri": "https://localhost:8080/"
        },
        "id": "_2v7SIJCL75X",
        "outputId": "cfa85185-3c58-45cf-a5ff-5c336d05f14b"
      },
      "execution_count": null,
      "outputs": [
        {
          "output_type": "stream",
          "name": "stdout",
          "text": [
            "Accuracy: 94.83%\n"
          ]
        }
      ]
    },
    {
      "cell_type": "code",
      "source": [],
      "metadata": {
        "id": "tqmzhUn2C7E-"
      },
      "execution_count": null,
      "outputs": []
    },
    {
      "cell_type": "code",
      "source": [],
      "metadata": {
        "id": "-cQcf4_tC7O-"
      },
      "execution_count": null,
      "outputs": []
    },
    {
      "cell_type": "code",
      "source": [],
      "metadata": {
        "id": "OZy860OkC7YA"
      },
      "execution_count": null,
      "outputs": []
    },
    {
      "cell_type": "code",
      "source": [],
      "metadata": {
        "id": "TqUytmnxC7it"
      },
      "execution_count": null,
      "outputs": []
    },
    {
      "cell_type": "code",
      "source": [],
      "metadata": {
        "id": "Sr2JtcrUC7q-"
      },
      "execution_count": null,
      "outputs": []
    }
  ]
}